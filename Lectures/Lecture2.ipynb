{
 "cells": [
  {
   "cell_type": "markdown",
   "id": "bf3f0496-5af9-406f-aa1e-9fe4fd4c2a39",
   "metadata": {},
   "source": [
    "# Lecture 2: Probability, thermodynamics, ensembles, thermostats, and barostats, oh my!\n",
    "\n",
    "## Review from last time\n",
    "\n",
    "_Hamilton's equations_\n",
    "\n",
    "\\begin{align}\n",
    "\\dot{p} = -\\frac{\\partial H}{\\partial q} \\\\\n",
    "\\dot{q} = \\frac{\\partial H}{\\partial p}\n",
    "\\end{align}\n",
    "\n",
    "_Symplectic integrator_ -- integrates Hamilton's equations of motion to conserve the phase space area $dp \\wedge dq$\n",
    "\n",
    "_Velocity verlet integrator_ -- Symplectic integrator evolves the momentum and position of a Hamiltonian system.\n",
    "\n",
    "\\begin{align}\n",
    "p \\left( t + \\frac{\\Delta t}{2} \\right) = p(t) + \\frac{f(t) \\Delta t}{2} \\\\\n",
    "x \\left( t + \\Delta t \\right) = x(t) + \\frac{ p \\left( t + \\frac{\\Delta t}{2} \\right) }{m} \\Delta t \\\\\n",
    "p \\left( t + \\Delta t \\right) = p \\left( t + \\frac{\\Delta t}{2} \\right) + \\frac{f(t + \\Delta t) \\Delta t}{2}\n",
    "\\end{align}\n",
    "\n",
    "_Evolution operator_\n",
    "\n",
    "We can derive an evolution operator acting a number of successive, discrete, times on a system. We can apply an evolution operator to find the state of a sytem $\\Gamma$ at time $t$. We will switch to using the position $\\bf{x}$ and velocity $\\bf{v} = \\bf{p}/m$ of the $N$ particles. $\\Gamma(t)$ = $(p(t), x(t))$.\n",
    "\n",
    "\\begin{align}\n",
    "\\Gamma(t) = \\exp \\left( i L t \\right) \\Gamma(0)\n",
    "\\end{align}"
   ]
  },
  {
   "cell_type": "markdown",
   "id": "0272fafe-7ae1-411f-92a8-4af914591bf4",
   "metadata": {},
   "source": [
    "## Lyapunov Instability\n",
    "\n",
    "*Notice we didn't ask:* Which integrator makes the most attractive prediction of the trajectory of the particles?\n",
    "\n",
    "To illustrate the extreme sensitivity of trajectories to small differences in initial conditions, let us consider a small perturbation $\\epsilon$, of the momenta, such that\n",
    "\\begin{align}\n",
    "r(t) = f \\left[ r^{N}(0), p^{N}(0); t \\right] \\\\\n",
    "r'(t) = f \\left[ r^{N}(0), p^{N}(0) + \\epsilon; t \\right]\n",
    "\\end{align}\n",
    "\n",
    "The difference between $r(t)$ and $r'(t)$ is denoted by $\\Delta r(t)$, and for sufficiently short times $\\Delta r(t)$ is linear in $\\epsilon$. However, the coefficient of linear dependence diverges exponentially. That is,\n",
    "\n",
    "\\begin{equation}\n",
    "| \\Delta r(t) | \\sim \\epsilon e^{\\lambda t}\n",
    "\\end{equation}\n",
    "\n",
    "where $\\lambda$ is the Lyapunov exponent (or the largest of 6N exponents, which dominates the long-time exponeitial divergence of initially close trajectories).\n",
    "\n",
    "**Two simulations will diverge, we can consider it caused by the integration error in the algorithm - the Lyapnov instability.**"
   ]
  },
  {
   "cell_type": "code",
   "execution_count": null,
   "id": "a95b6f65-4813-4bec-a1a6-b1b4f338d960",
   "metadata": {},
   "outputs": [],
   "source": []
  }
 ],
 "metadata": {
  "kernelspec": {
   "display_name": "Julia 1.11.0",
   "language": "julia",
   "name": "julia-1.11"
  },
  "language_info": {
   "file_extension": ".jl",
   "mimetype": "application/julia",
   "name": "julia",
   "version": "1.11.0"
  }
 },
 "nbformat": 4,
 "nbformat_minor": 5
}
