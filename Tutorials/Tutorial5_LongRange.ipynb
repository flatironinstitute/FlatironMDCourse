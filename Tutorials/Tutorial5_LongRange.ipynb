{
 "cells": [
  {
   "cell_type": "markdown",
   "id": "34605828-4cff-45ea-82e7-ab39a3b4ff9d",
   "metadata": {},
   "source": [
    "# T5.1 - Long Range Interactions\n",
    "\n",
    "Let's create a system to examine both how ewald summation works, as well as a sketch of how FMMs might work. Again, this is just for illustrative purposes, as the full treatment of either depends heavily on the periodicity of the problem, as well as the type of long-range interaction you are evalulating.\n",
    "\n",
    "Let's consider a system of $N$ particles in a 3D system."
   ]
  },
  {
   "cell_type": "code",
   "execution_count": 1,
   "id": "668c5e99-987d-463f-b745-689007cca4d6",
   "metadata": {},
   "outputs": [],
   "source": [
    "using Revise;\n",
    "using Plots;\n",
    "using LaTeXStrings;\n",
    "using StaticArrays;\n",
    "using Random;\n",
    "using Distributions;\n",
    "Random.seed!(1234);"
   ]
  },
  {
   "cell_type": "code",
   "execution_count": 2,
   "id": "4c585326-1a13-4775-aec2-5896b9d2314e",
   "metadata": {},
   "outputs": [
    {
     "data": {
      "text/plain": [
       "UnitCell"
      ]
     },
     "execution_count": 2,
     "metadata": {},
     "output_type": "execute_result"
    }
   ],
   "source": [
    "# We are going to build out own entire system for MD in the notebook so that we can do whatever we want with it.\n",
    "# Make it fairly general.\n",
    "\n",
    "# MD System keeps track of the current system state, and things that don't change per particle\n",
    "struct MDSystem\n",
    "    N::Int64;\n",
    "    X::Vector{SVector{3,Float64}};\n",
    "    P::Vector{SVector{3,Float64}};\n",
    "    mass::Vector{Float64};\n",
    "    charge::Vector{Float64};\n",
    "    Ekin::Float64;\n",
    "    Epot::Float64;\n",
    "    Etot::Float64;\n",
    "    kT::Float64;\n",
    "end\n",
    "# Create a function to create a default version of this structure\n",
    "function MDSystem(N::Int)\n",
    "    X = Vector{SVector{3,Float64}}(undef, N);\n",
    "    P = Vector{SVector{3,Float64}}(undef, N);\n",
    "    # Initialize X and P to zeros (thermalize and set initial positions later)\n",
    "    for idx in 1:N\n",
    "        X[idx] = SVector{3,Float64}(0.0, 0.0, 0.0);\n",
    "        P[idx] = SVector{3,Float64}(0.0, 0.0, 0.0);\n",
    "    end\n",
    "    mass = zeros(N);\n",
    "    charge = zeros(N);\n",
    "    Ekin = 0.0;\n",
    "    Epot = 0.0;\n",
    "    Etot = 0.0;\n",
    "    kT = 0.0;\n",
    "    return MDSystem(N, X, P, mass, charge, Ekin, Epot, Etot, kT);\n",
    "end\n",
    "\n",
    "# UnitCell keeps track of the dimensionality of the system.\n",
    "struct UnitCell\n",
    "    L::SVector{3,Float64};\n",
    "    periodic::SVector{3,Int64};\n",
    "end\n",
    "function UnitCell(L::Float64, periodicX::Bool, periodicY::Bool, periodicZ::Bool)\n",
    "    Lvec = SVector{3,Float64}(L, L, L);\n",
    "    periodicvec = SVector{3,Int64}(periodicX, periodicY, periodicZ);\n",
    "    return UnitCell(Lvec, periodicvec);\n",
    "end"
   ]
  },
  {
   "cell_type": "code",
   "execution_count": 7,
   "id": "11ea667f-af69-419f-a666-4ee16fed5a34",
   "metadata": {},
   "outputs": [
    {
     "data": {
      "text/plain": [
       "ThermalizeMomenta! (generic function with 1 method)"
      ]
     },
     "execution_count": 7,
     "metadata": {},
     "output_type": "execute_result"
    }
   ],
   "source": [
    "# This will randomize our initial positions inside of a cell of length L\n",
    "function RandomInitialPositionsUnitCell!(mdsys::MDSystem,\n",
    "    unitcell::UnitCell)\n",
    "    for idx in 1:mdsys.N\n",
    "        randpos = (rand(3) .- 0.5) * unitcell.L;\n",
    "        mdsys.X[idx] = SVector{3,Float64}(randpos[1], randpos[2], randpos[3]);\n",
    "    end\n",
    "    return nothing\n",
    "end\n",
    "# This will thermalize the 1D system (assign velocities in a Maxwellian distribution way)\n",
    "function ThermalizeMomenta!(mdsys::MDSystem,\n",
    "        m::Float64,\n",
    "        kT::Float64)\n",
    "    N = mdsys.N;\n",
    "    MaxwellDistribution = Normal(0.0, sqrt(kT/m));\n",
    "    for idx in 1:N\n",
    "        mdsys.P[idx] = rand(MaxwellDistribution, 3);\n",
    "    end\n",
    "    return nothing\n",
    "end"
   ]
  },
  {
   "cell_type": "code",
   "execution_count": 8,
   "id": "f87c318c-9738-43bb-b884-c8589480af5c",
   "metadata": {},
   "outputs": [
    {
     "ename": "LoadError",
     "evalue": "MethodError: no method matching *(::Vector{Float64}, ::SVector{3, Float64})\nThe function `*` exists, but no method is defined for this combination of argument types.\n\n\u001b[0mClosest candidates are:\n\u001b[0m  *(::Any, ::Any, \u001b[91m::Any\u001b[39m, \u001b[91m::Any...\u001b[39m)\n\u001b[0m\u001b[90m   @\u001b[39m \u001b[90mBase\u001b[39m \u001b[90m\u001b[4moperators.jl:596\u001b[24m\u001b[39m\n\u001b[0m  *(\u001b[91m::StaticArray{Tuple{N, M}, T, 2} where {N, M, T}\u001b[39m, ::StaticArray{Tuple{N}, T, 1} where {N, T})\n\u001b[0m\u001b[90m   @\u001b[39m \u001b[36mStaticArrays\u001b[39m \u001b[90m~/.julia/packages/StaticArrays/9Yt0H/src/\u001b[39m\u001b[90m\u001b[4mmatrix_multiply.jl:10\u001b[24m\u001b[39m\n\u001b[0m  *(\u001b[91m::PDMats.PDiagMat\u001b[39m, ::AbstractVector)\n\u001b[0m\u001b[90m   @\u001b[39m \u001b[35mPDMats\u001b[39m \u001b[90m~/.julia/packages/PDMats/cAM9h/src/\u001b[39m\u001b[90m\u001b[4mpdiagmat.jl:55\u001b[24m\u001b[39m\n\u001b[0m  ...\n",
     "output_type": "error",
     "traceback": [
      "MethodError: no method matching *(::Vector{Float64}, ::SVector{3, Float64})\nThe function `*` exists, but no method is defined for this combination of argument types.\n\n\u001b[0mClosest candidates are:\n\u001b[0m  *(::Any, ::Any, \u001b[91m::Any\u001b[39m, \u001b[91m::Any...\u001b[39m)\n\u001b[0m\u001b[90m   @\u001b[39m \u001b[90mBase\u001b[39m \u001b[90m\u001b[4moperators.jl:596\u001b[24m\u001b[39m\n\u001b[0m  *(\u001b[91m::StaticArray{Tuple{N, M}, T, 2} where {N, M, T}\u001b[39m, ::StaticArray{Tuple{N}, T, 1} where {N, T})\n\u001b[0m\u001b[90m   @\u001b[39m \u001b[36mStaticArrays\u001b[39m \u001b[90m~/.julia/packages/StaticArrays/9Yt0H/src/\u001b[39m\u001b[90m\u001b[4mmatrix_multiply.jl:10\u001b[24m\u001b[39m\n\u001b[0m  *(\u001b[91m::PDMats.PDiagMat\u001b[39m, ::AbstractVector)\n\u001b[0m\u001b[90m   @\u001b[39m \u001b[35mPDMats\u001b[39m \u001b[90m~/.julia/packages/PDMats/cAM9h/src/\u001b[39m\u001b[90m\u001b[4mpdiagmat.jl:55\u001b[24m\u001b[39m\n\u001b[0m  ...\n",
      "",
      "Stacktrace:",
      " [1] RandomInitialPositionsUnitCell!(mdsys::MDSystem, unitcell::UnitCell)",
      "   @ Main ./In[7]:5",
      " [2] top-level scope",
      "   @ In[8]:7"
     ]
    }
   ],
   "source": [
    "# Initialize our system\n",
    "N = 10;\n",
    "L = 100.0;\n",
    "mass = 1.0;\n",
    "kT = 1.0;\n",
    "mdsys = MDSystem(N);\n",
    "unitcell = UnitCell(L, true, true, true);\n",
    "RandomInitialPositionsUnitCell!(mdsys, unitcell);\n",
    "# ThermalizeMomenta!(mdsys, mass, kT);"
   ]
  },
  {
   "cell_type": "code",
   "execution_count": null,
   "id": "aef52d1d-ffa1-4350-aa6f-2098828b6052",
   "metadata": {},
   "outputs": [],
   "source": []
  }
 ],
 "metadata": {
  "kernelspec": {
   "display_name": "Julia 1.11.1",
   "language": "julia",
   "name": "julia-1.11"
  },
  "language_info": {
   "file_extension": ".jl",
   "mimetype": "application/julia",
   "name": "julia",
   "version": "1.11.1"
  }
 },
 "nbformat": 4,
 "nbformat_minor": 5
}
